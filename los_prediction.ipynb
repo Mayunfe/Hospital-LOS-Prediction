{
  "nbformat": 4,
  "nbformat_minor": 0,
  "metadata": {
    "colab": {
      "provenance": []
    },
    "kernelspec": {
      "name": "python3",
      "display_name": "Python 3"
    },
    "language_info": {
      "name": "python"
    }
  },
  "cells": [
    {
      "cell_type": "markdown",
      "source": [],
      "metadata": {
        "id": "uqNNXgv9lLsR"
      }
    },
    {
      "cell_type": "markdown",
      "source": [
        "# Chapter 1: Setup and Imports\n",
        "This chapter sets up the environment with version-pinned libraries for reproducibility, using a modular setup function for maintainability and scalability across projects."
      ],
      "metadata": {
        "id": "CAeW9_W5lQa1"
      }
    },
    {
      "cell_type": "code",
      "source": [
        "from importlib.metadata import version\n",
        "import pkg_resources\n",
        "\n",
        "def setup_environment():\n",
        "    !pip install streamlit==1.29.0 -q\n",
        "    !pip install pyngrok==7.1.0 -q\n",
        "    !pip install joblib==1.3.2 -q\n",
        "    import pandas as pd\n",
        "    import numpy as np\n",
        "    import warnings; warnings.filterwarnings('ignore')\n",
        "    import matplotlib.pyplot as plt\n",
        "    import seaborn as sns\n",
        "    import streamlit as st\n",
        "    from imblearn.over_sampling import SMOTE\n",
        "    from sklearn.preprocessing import MinMaxScaler, LabelEncoder\n",
        "    from sklearn.model_selection import train_test_split, RandomizedSearchCV\n",
        "    from sklearn.ensemble import RandomForestClassifier\n",
        "    from sklearn.metrics import classification_report, confusion_matrix, f1_score\n",
        "    from sklearn.impute import SimpleImputer\n",
        "    from sklearn.feature_selection import RFE\n",
        "    import time\n",
        "    from google.colab import files\n",
        "    from pyngrok import ngrok\n",
        "    import joblib\n",
        "    print(f\"Versions: pandas={version('pandas')}, streamlit={version('streamlit')}\")\n",
        "    return True\n",
        "\n",
        "if setup_environment():\n",
        "    print(\"Environment set up successfully!\")"
      ],
      "metadata": {
        "colab": {
          "base_uri": "https://localhost:8080/"
        },
        "id": "eDI0_SwylSI5",
        "outputId": "310a20b1-7a04-4481-84ab-9f1e6d89b27e"
      },
      "execution_count": 5,
      "outputs": [
        {
          "output_type": "stream",
          "name": "stdout",
          "text": [
            "Versions: pandas=2.2.2, streamlit=1.29.0\n",
            "Environment set up successfully!\n"
          ]
        }
      ]
    },
    {
      "cell_type": "markdown",
      "source": [
        "# Chapter 2: Data Cleaning\n",
        "This chapter defines a flexible cleaning function for maintainability, saves checkpoints for reproducibility, and ensures data quality appropriate for predicting hospital LOS."
      ],
      "metadata": {
        "id": "L6ZvNJ38lkyR"
      }
    },
    {
      "cell_type": "code",
      "source": [
        "def clean_data(df, impute_strategy='median', outlier_threshold=1.5):\n",
        "    print(\"Missing values:\\n\", df.isnull().sum())\n",
        "    numeric_cols = df.select_dtypes(include=['int64', 'float64']).columns\n",
        "    binary_cols = ['gender', 'dialysisrenalendstage', 'asthma', 'irondef', 'pneum',\n",
        "                   'substancedependence', 'psychologicaldisordermajor', 'depress',\n",
        "                   'psychother', 'fibrosisandother', 'malnutrition', 'hemo']\n",
        "    imputer_numeric = SimpleImputer(strategy=impute_strategy)\n",
        "    imputer_binary = SimpleImputer(strategy='most_frequent')\n",
        "    df[numeric_cols] = imputer_numeric.fit_transform(df[numeric_cols])\n",
        "    df[binary_cols] = imputer_binary.fit_transform(df[binary_cols])\n",
        "    for col in ['hematocrit', 'neutrophils', 'bmi']:\n",
        "        Q1, Q3 = df[col].quantile([0.25, 0.75])\n",
        "        IQR = Q3 - Q1\n",
        "        lower, upper = Q1 - outlier_threshold * IQR, Q3 + outlier_threshold * IQR\n",
        "        df[col] = df[col].clip(lower, upper)\n",
        "    df.to_csv(f'cleaned_data_{time.ctime()}.csv', index=False)\n",
        "    print(\"Data cleaned and checkpoint saved!\")\n",
        "    return df\n",
        "\n",
        "print(\"Data cleaning function defined!\")"
      ],
      "metadata": {
        "colab": {
          "base_uri": "https://localhost:8080/"
        },
        "id": "3Q91DapSlnvB",
        "outputId": "176a7728-c7ba-4322-a7e9-ed8697d8debc"
      },
      "execution_count": 6,
      "outputs": [
        {
          "output_type": "stream",
          "name": "stdout",
          "text": [
            "Data cleaning function defined!\n"
          ]
        }
      ]
    },
    {
      "cell_type": "markdown",
      "source": [
        "# Chapter 3: Exploratory Data Analysis (EDA)\n",
        "This chapter provides a modular EDA function with saved plots for reproducibility, ensuring appropriate analysis of LOS patterns relevant to hospital planning."
      ],
      "metadata": {
        "id": "JZn4o8Jzlqu9"
      }
    },
    {
      "cell_type": "code",
      "source": [
        "from datetime import datetime\n",
        "\n",
        "def explore_data(df, feature_to_plot='hematocrit', display=True):\n",
        "    timestamp = datetime.now().strftime(\"%Y%m%d_%H%M%S\")\n",
        "\n",
        "    # LOS category distribution\n",
        "    plt.figure(figsize=(8, 6))\n",
        "    sns.countplot(data=df, x='los_category')\n",
        "    plt.title(f\"LOS Category Distribution (Raw Data) - {timestamp}\")\n",
        "    if display:\n",
        "        plt.show()  # Display inline in Colab\n",
        "    plt.savefig(f\"los_distribution_{timestamp}.png\")  # Optional save\n",
        "    plt.close()\n",
        "\n",
        "    # Feature boxplot\n",
        "    plt.figure(figsize=(8, 6))\n",
        "    sns.boxplot(data=df, x='los_category', y=feature_to_plot)\n",
        "    plt.title(f\"{feature_to_plot} by LOS Category - {timestamp}\")\n",
        "    if display:\n",
        "        plt.show()  # Display inline in Colab\n",
        "    plt.savefig(f\"{feature_to_plot}_boxplot_{timestamp}.png\")  # Optional save\n",
        "    plt.close()\n",
        "    print(f\"EDA plots generated with timestamp {timestamp}!\")\n",
        "\n",
        "print(\"EDA function defined!\")"
      ],
      "metadata": {
        "colab": {
          "base_uri": "https://localhost:8080/"
        },
        "id": "94HDNrFWltUy",
        "outputId": "03eecc30-0496-4583-bf79-54f6f2885170"
      },
      "execution_count": 19,
      "outputs": [
        {
          "output_type": "stream",
          "name": "stdout",
          "text": [
            "EDA function defined!\n"
          ]
        }
      ]
    },
    {
      "cell_type": "markdown",
      "source": [
        "# Chapter 4: Data Preprocessing and Feature Engineering\n",
        "This chapter loads data, applies modular cleaning and EDA, engineers features for scalability, and selects features with adjustable RFE for maintainability, saving preprocessed data for reproducibility."
      ],
      "metadata": {
        "id": "gUBpnuztlvwO"
      }
    },
    {
      "cell_type": "code",
      "source": [
        "# Re-import only necessary libraries for reproducibility and standalone execution\n",
        "from google.colab import files\n",
        "import pandas as pd\n",
        "import numpy as np\n",
        "import matplotlib.pyplot as plt\n",
        "import seaborn as sns\n",
        "from sklearn.preprocessing import MinMaxScaler, LabelEncoder\n",
        "from sklearn.impute import SimpleImputer\n",
        "from sklearn.ensemble import RandomForestClassifier\n",
        "from sklearn.feature_selection import RFE\n",
        "import time\n",
        "\n",
        "def engineer_features(df):\n",
        "    df['lab_severity'] = df['hematocrit'] + df['neutrophils']\n",
        "    df['comorbidity_score'] = df[['dialysisrenalendstage', 'malnutrition', 'psychologicaldisordermajor']].sum(axis=1)\n",
        "    return df\n",
        "\n",
        "def load_and_preprocess_data(clean_func=clean_data, explore_func=explore_data, n_features=15):\n",
        "    uploaded = files.upload()\n",
        "    df = pd.read_csv(list(uploaded.keys())[0])\n",
        "    df = clean_func(df)\n",
        "    bins = [0, 3, 6, df['lengthofstay'].max() + 1]\n",
        "    labels = ['Short', 'Average', 'Prolonged']\n",
        "    df['los_category'] = pd.cut(df['lengthofstay'], bins=bins, labels=labels, right=False)\n",
        "    explore_func(df, display=True)  # Explicitly set display=True to show plots\n",
        "    df = engineer_features(df)\n",
        "\n",
        "    X = df.drop(columns=['lengthofstay', 'los_category', 'eid', 'vdate', 'discharged', 'facid'])\n",
        "    y = df['los_category']\n",
        "    binary_cols = ['gender', 'dialysisrenalendstage', 'asthma', 'irondef', 'pneum',\n",
        "                   'substancedependence', 'psychologicaldisordermajor', 'depress',\n",
        "                   'psychother', 'fibrosisandother', 'malnutrition', 'hemo']\n",
        "    for col in binary_cols:\n",
        "        X[col] = X[col].replace({'F': 1, 'M': 0}).astype(int) if col == 'gender' else X[col].astype(int)\n",
        "    X['rcount'] = X['rcount'].replace('5+', 5).astype(int)\n",
        "\n",
        "    imputer = SimpleImputer(strategy='median')\n",
        "    X_numeric = pd.DataFrame(imputer.fit_transform(X.select_dtypes(include=['int64', 'float64'])),\n",
        "                            columns=X.select_dtypes(include=['int64', 'float64']).columns)\n",
        "    scaler = MinMaxScaler()\n",
        "    X_scaled = pd.DataFrame(scaler.fit_transform(X_numeric), columns=X_numeric.columns)\n",
        "\n",
        "    rf = RandomForestClassifier(n_estimators=50, random_state=42)\n",
        "    selector = RFE(rf, n_features_to_select=n_features, step=1)\n",
        "    le = LabelEncoder()\n",
        "    y_encoded = le.fit_transform(y)\n",
        "    X_selected = selector.fit_transform(X_scaled, y_encoded)\n",
        "    selected_features = X_scaled.columns[selector.support_]\n",
        "    X_scaled = pd.DataFrame(X_selected, columns=selected_features)\n",
        "\n",
        "    X_scaled.to_csv(f'preprocessed_data_{time.ctime()}.csv', index=False)\n",
        "    np.save('y_encoded.npy', y_encoded)\n",
        "    print(\"Preprocessing complete, data saved!\")\n",
        "    return X_scaled, y_encoded, df, le.classes_\n",
        "\n",
        "# Execute preprocessing\n",
        "X_scaled, y_encoded, df, class_names = load_and_preprocess_data()"
      ],
      "metadata": {
        "colab": {
          "base_uri": "https://localhost:8080/",
          "height": 1000
        },
        "id": "c30WGhXctURZ",
        "outputId": "c8f4fec7-f827-4ca8-dc77-6787bc92827d"
      },
      "execution_count": 20,
      "outputs": [
        {
          "output_type": "display_data",
          "data": {
            "text/plain": [
              "<IPython.core.display.HTML object>"
            ],
            "text/html": [
              "\n",
              "     <input type=\"file\" id=\"files-a4105203-8a66-48d9-9558-b5056bf135f0\" name=\"files[]\" multiple disabled\n",
              "        style=\"border:none\" />\n",
              "     <output id=\"result-a4105203-8a66-48d9-9558-b5056bf135f0\">\n",
              "      Upload widget is only available when the cell has been executed in the\n",
              "      current browser session. Please rerun this cell to enable.\n",
              "      </output>\n",
              "      <script>// Copyright 2017 Google LLC\n",
              "//\n",
              "// Licensed under the Apache License, Version 2.0 (the \"License\");\n",
              "// you may not use this file except in compliance with the License.\n",
              "// You may obtain a copy of the License at\n",
              "//\n",
              "//      http://www.apache.org/licenses/LICENSE-2.0\n",
              "//\n",
              "// Unless required by applicable law or agreed to in writing, software\n",
              "// distributed under the License is distributed on an \"AS IS\" BASIS,\n",
              "// WITHOUT WARRANTIES OR CONDITIONS OF ANY KIND, either express or implied.\n",
              "// See the License for the specific language governing permissions and\n",
              "// limitations under the License.\n",
              "\n",
              "/**\n",
              " * @fileoverview Helpers for google.colab Python module.\n",
              " */\n",
              "(function(scope) {\n",
              "function span(text, styleAttributes = {}) {\n",
              "  const element = document.createElement('span');\n",
              "  element.textContent = text;\n",
              "  for (const key of Object.keys(styleAttributes)) {\n",
              "    element.style[key] = styleAttributes[key];\n",
              "  }\n",
              "  return element;\n",
              "}\n",
              "\n",
              "// Max number of bytes which will be uploaded at a time.\n",
              "const MAX_PAYLOAD_SIZE = 100 * 1024;\n",
              "\n",
              "function _uploadFiles(inputId, outputId) {\n",
              "  const steps = uploadFilesStep(inputId, outputId);\n",
              "  const outputElement = document.getElementById(outputId);\n",
              "  // Cache steps on the outputElement to make it available for the next call\n",
              "  // to uploadFilesContinue from Python.\n",
              "  outputElement.steps = steps;\n",
              "\n",
              "  return _uploadFilesContinue(outputId);\n",
              "}\n",
              "\n",
              "// This is roughly an async generator (not supported in the browser yet),\n",
              "// where there are multiple asynchronous steps and the Python side is going\n",
              "// to poll for completion of each step.\n",
              "// This uses a Promise to block the python side on completion of each step,\n",
              "// then passes the result of the previous step as the input to the next step.\n",
              "function _uploadFilesContinue(outputId) {\n",
              "  const outputElement = document.getElementById(outputId);\n",
              "  const steps = outputElement.steps;\n",
              "\n",
              "  const next = steps.next(outputElement.lastPromiseValue);\n",
              "  return Promise.resolve(next.value.promise).then((value) => {\n",
              "    // Cache the last promise value to make it available to the next\n",
              "    // step of the generator.\n",
              "    outputElement.lastPromiseValue = value;\n",
              "    return next.value.response;\n",
              "  });\n",
              "}\n",
              "\n",
              "/**\n",
              " * Generator function which is called between each async step of the upload\n",
              " * process.\n",
              " * @param {string} inputId Element ID of the input file picker element.\n",
              " * @param {string} outputId Element ID of the output display.\n",
              " * @return {!Iterable<!Object>} Iterable of next steps.\n",
              " */\n",
              "function* uploadFilesStep(inputId, outputId) {\n",
              "  const inputElement = document.getElementById(inputId);\n",
              "  inputElement.disabled = false;\n",
              "\n",
              "  const outputElement = document.getElementById(outputId);\n",
              "  outputElement.innerHTML = '';\n",
              "\n",
              "  const pickedPromise = new Promise((resolve) => {\n",
              "    inputElement.addEventListener('change', (e) => {\n",
              "      resolve(e.target.files);\n",
              "    });\n",
              "  });\n",
              "\n",
              "  const cancel = document.createElement('button');\n",
              "  inputElement.parentElement.appendChild(cancel);\n",
              "  cancel.textContent = 'Cancel upload';\n",
              "  const cancelPromise = new Promise((resolve) => {\n",
              "    cancel.onclick = () => {\n",
              "      resolve(null);\n",
              "    };\n",
              "  });\n",
              "\n",
              "  // Wait for the user to pick the files.\n",
              "  const files = yield {\n",
              "    promise: Promise.race([pickedPromise, cancelPromise]),\n",
              "    response: {\n",
              "      action: 'starting',\n",
              "    }\n",
              "  };\n",
              "\n",
              "  cancel.remove();\n",
              "\n",
              "  // Disable the input element since further picks are not allowed.\n",
              "  inputElement.disabled = true;\n",
              "\n",
              "  if (!files) {\n",
              "    return {\n",
              "      response: {\n",
              "        action: 'complete',\n",
              "      }\n",
              "    };\n",
              "  }\n",
              "\n",
              "  for (const file of files) {\n",
              "    const li = document.createElement('li');\n",
              "    li.append(span(file.name, {fontWeight: 'bold'}));\n",
              "    li.append(span(\n",
              "        `(${file.type || 'n/a'}) - ${file.size} bytes, ` +\n",
              "        `last modified: ${\n",
              "            file.lastModifiedDate ? file.lastModifiedDate.toLocaleDateString() :\n",
              "                                    'n/a'} - `));\n",
              "    const percent = span('0% done');\n",
              "    li.appendChild(percent);\n",
              "\n",
              "    outputElement.appendChild(li);\n",
              "\n",
              "    const fileDataPromise = new Promise((resolve) => {\n",
              "      const reader = new FileReader();\n",
              "      reader.onload = (e) => {\n",
              "        resolve(e.target.result);\n",
              "      };\n",
              "      reader.readAsArrayBuffer(file);\n",
              "    });\n",
              "    // Wait for the data to be ready.\n",
              "    let fileData = yield {\n",
              "      promise: fileDataPromise,\n",
              "      response: {\n",
              "        action: 'continue',\n",
              "      }\n",
              "    };\n",
              "\n",
              "    // Use a chunked sending to avoid message size limits. See b/62115660.\n",
              "    let position = 0;\n",
              "    do {\n",
              "      const length = Math.min(fileData.byteLength - position, MAX_PAYLOAD_SIZE);\n",
              "      const chunk = new Uint8Array(fileData, position, length);\n",
              "      position += length;\n",
              "\n",
              "      const base64 = btoa(String.fromCharCode.apply(null, chunk));\n",
              "      yield {\n",
              "        response: {\n",
              "          action: 'append',\n",
              "          file: file.name,\n",
              "          data: base64,\n",
              "        },\n",
              "      };\n",
              "\n",
              "      let percentDone = fileData.byteLength === 0 ?\n",
              "          100 :\n",
              "          Math.round((position / fileData.byteLength) * 100);\n",
              "      percent.textContent = `${percentDone}% done`;\n",
              "\n",
              "    } while (position < fileData.byteLength);\n",
              "  }\n",
              "\n",
              "  // All done.\n",
              "  yield {\n",
              "    response: {\n",
              "      action: 'complete',\n",
              "    }\n",
              "  };\n",
              "}\n",
              "\n",
              "scope.google = scope.google || {};\n",
              "scope.google.colab = scope.google.colab || {};\n",
              "scope.google.colab._files = {\n",
              "  _uploadFiles,\n",
              "  _uploadFilesContinue,\n",
              "};\n",
              "})(self);\n",
              "</script> "
            ]
          },
          "metadata": {}
        },
        {
          "output_type": "stream",
          "name": "stdout",
          "text": [
            "Saving LengthOfStay.csv to LengthOfStay (2).csv\n",
            "Missing values:\n",
            " eid                           0\n",
            "vdate                         0\n",
            "rcount                        0\n",
            "gender                        0\n",
            "dialysisrenalendstage         0\n",
            "asthma                        0\n",
            "irondef                       0\n",
            "pneum                         0\n",
            "substancedependence           0\n",
            "psychologicaldisordermajor    0\n",
            "depress                       0\n",
            "psychother                    0\n",
            "fibrosisandother              0\n",
            "malnutrition                  0\n",
            "hemo                          0\n",
            "hematocrit                    0\n",
            "neutrophils                   0\n",
            "sodium                        0\n",
            "glucose                       0\n",
            "bloodureanitro                0\n",
            "creatinine                    0\n",
            "bmi                           0\n",
            "pulse                         0\n",
            "respiration                   0\n",
            "secondarydiagnosisnonicd9     0\n",
            "discharged                    0\n",
            "facid                         0\n",
            "lengthofstay                  0\n",
            "dtype: int64\n",
            "Data cleaned and checkpoint saved!\n"
          ]
        },
        {
          "output_type": "display_data",
          "data": {
            "text/plain": [
              "<Figure size 800x600 with 1 Axes>"
            ],
            "image/png": "[encoded data removed]"
          },
          "metadata": {}
        },
        {
          "output_type": "display_data",
          "data": {
            "text/plain": [
              "<Figure size 800x600 with 1 Axes>"
            ],
            "image/png": "[encoded data removed]"
          },
          "metadata": {}
        },
        {
          "output_type": "stream",
          "name": "stdout",
          "text": [
            "EDA plots generated with timestamp 20250312_142031!\n",
            "Preprocessing complete, data saved!\n"
          ]
        }
      ]
    },
    {
      "cell_type": "markdown",
      "source": [
        "# Chapter 5: Model Training\n",
        "This chapter trains the model with modular SMOTE and cross-validation for reproducibility, saving the model for maintainability, ensuring robust and appropriate LOS predictions."
      ],
      "metadata": {
        "id": "44_NFd0boxmi"
      }
    },
    {
      "cell_type": "code",
      "source": [
        "# Re-import necessary libraries for reproducibility and standalone execution\n",
        "from sklearn.model_selection import train_test_split, cross_val_score\n",
        "from imblearn.over_sampling import SMOTE\n",
        "from sklearn.ensemble import RandomForestClassifier\n",
        "from sklearn.metrics import f1_score\n",
        "from sklearn.model_selection import RandomizedSearchCV\n",
        "import time\n",
        "import joblib\n",
        "import numpy as np\n",
        "\n",
        "def train_model(X_train, y_train, smote_strategy='not majority', n_iter=5, cv=5):\n",
        "    smote = SMOTE(sampling_strategy=smote_strategy, random_state=42)\n",
        "    X_train_balanced, y_train_balanced = smote.fit_resample(X_train, y_train)\n",
        "\n",
        "    rf = RandomForestClassifier(n_estimators=50, random_state=42)\n",
        "    param_dist = {\n",
        "        'n_estimators': [50, 100],\n",
        "        'max_depth': [10, 20, None],\n",
        "        'min_samples_split': [2, 5],\n",
        "        'min_samples_leaf': [1, 2]\n",
        "    }\n",
        "    search = RandomizedSearchCV(rf, param_distributions=param_dist, n_iter=n_iter, cv=cv,\n",
        "                                n_jobs=-1, scoring='f1_weighted', random_state=42, verbose=0)\n",
        "    search.fit(X_train_balanced, y_train_balanced)\n",
        "\n",
        "    cv_scores = cross_val_score(search.best_estimator_, X_train_balanced, y_train_balanced, cv=cv, scoring='f1_weighted')\n",
        "    print(f\"Cross-validated F1-score: {cv_scores.mean():.3f} (±{cv_scores.std() * 2:.3f})\")\n",
        "\n",
        "    return search.best_estimator_\n",
        "\n",
        "# Use preprocessed data from Chapter 4\n",
        "X_train, X_test, y_train, y_test = train_test_split(X_scaled, y_encoded, test_size=0.2,\n",
        "                                                    random_state=42, stratify=y_encoded)\n",
        "start_time = time.time()\n",
        "model = train_model(X_train, y_train)\n",
        "training_time = time.time() - start_time\n",
        "y_pred = model.predict(X_test)\n",
        "\n",
        "joblib.dump(model, f'model_{time.ctime()}.joblib')\n",
        "with open('model_metadata.txt', 'w') as f:\n",
        "    f.write(f\"Training Time: {training_time:.2f}s\\nF1-Score: {f1_score(y_test, y_pred, average='weighted'):.3f}\")\n",
        "print(f\"Training complete! Time: {training_time:.2f} seconds\")"
      ],
      "metadata": {
        "colab": {
          "base_uri": "https://localhost:8080/"
        },
        "id": "5EutyCLHozjY",
        "outputId": "ac16c2bf-0712-4393-97d4-8f4718402d7c"
      },
      "execution_count": 13,
      "outputs": [
        {
          "output_type": "stream",
          "name": "stdout",
          "text": [
            "Cross-validated F1-score: 0.898 (±0.031)\n",
            "Training complete! Time: 411.30 seconds\n"
          ]
        }
      ]
    },
    {
      "cell_type": "markdown",
      "source": [
        "# Chapter 6: Streamlit App Creation\n",
        "This chapter defines a modular app function with version tracking for reproducibility, saving data appropriately for scalable LOS visualization."
      ],
      "metadata": {
        "id": "MhGUIGUOrJr8"
      }
    },
    {
      "cell_type": "code",
      "source": [
        "def create_app():\n",
        "    import streamlit as st\n",
        "    import pandas as pd\n",
        "    import numpy as np\n",
        "    import matplotlib.pyplot as plt\n",
        "    import seaborn as sns\n",
        "    from sklearn.metrics import classification_report, confusion_matrix, f1_score\n",
        "    import joblib\n",
        "    from importlib.metadata import version\n",
        "\n",
        "    # Load data and model\n",
        "    X_scaled = pd.read_pickle(\"X_scaled.pkl\")\n",
        "    y_test = np.load(\"y_test.npy\")\n",
        "    y_pred = np.load(\"y_pred.npy\")\n",
        "    df = pd.read_pickle(\"df.pkl\")\n",
        "    class_names = np.load(\"class_names.npy\", allow_pickle=True)\n",
        "    training_time = float(open(\"training_time.txt\").read())\n",
        "    model = joblib.load(\"model.joblib\")\n",
        "\n",
        "    st.title(\"Hospital Length of Stay Prediction Dashboard\")\n",
        "    st.write(f\"Version: pandas {version('pandas')}, streamlit {version('streamlit')}\")\n",
        "    st.write(\"This app predicts hospital length of stay using a Random Forest model and visualizes key insights.\")\n",
        "\n",
        "    st.sidebar.header(\"Options\")\n",
        "    show_data = st.sidebar.checkbox(\"Show Raw Data\", False)\n",
        "    show_metrics = st.sidebar.checkbox(\"Show Performance Metrics\", True)\n",
        "    show_features = st.sidebar.checkbox(\"Show Feature Importance\", True)\n",
        "\n",
        "    if show_data:\n",
        "        st.subheader(\"Raw Data Preview\")\n",
        "        st.dataframe(df.head())\n",
        "\n",
        "    if show_metrics:\n",
        "        st.subheader(\"Model Performance\")\n",
        "        f1 = f1_score(y_test, y_pred, average='weighted')\n",
        "        st.write(f\"**F1-Score (Weighted):** {f1:.3f}\")\n",
        "        st.write(f\"**Training Time:** {training_time:.2f} seconds\")\n",
        "        report = classification_report(y_test, y_pred, target_names=class_names, output_dict=True)\n",
        "        st.write(\"**Classification Report:**\")\n",
        "        st.json(report)\n",
        "        cm = confusion_matrix(y_test, y_pred)\n",
        "        fig, ax = plt.subplots(figsize=(8, 6))\n",
        "        sns.heatmap(cm, annot=True, fmt='d', cmap='Blues',\n",
        "                    xticklabels=class_names, yticklabels=class_names, ax=ax)\n",
        "        ax.set_title(\"Confusion Matrix\")\n",
        "        ax.set_ylabel(\"True Label\")\n",
        "        ax.set_xlabel(\"Predicted Label\")\n",
        "        st.pyplot(fig)\n",
        "\n",
        "    if show_features:\n",
        "        st.subheader(\"Feature Importance\")\n",
        "        feature_importance = pd.DataFrame({\n",
        "            'feature': X_scaled.columns,\n",
        "            'importance': model.feature_importances_\n",
        "        }).sort_values('importance', ascending=False)\n",
        "        fig, ax = plt.subplots(figsize=(10, 6))\n",
        "        sns.barplot(x='importance', y='feature', data=feature_importance.head(10), ax=ax)\n",
        "        ax.set_title(\"Top 10 Feature Importance\")\n",
        "        st.pyplot(fig)\n",
        "\n",
        "    st.subheader(\"Target Distribution\")\n",
        "    fig, ax = plt.subplots(figsize=(10, 6))\n",
        "    colors = [\"#231F20\", \"#7CAED1\", \"#ABABAB\"]\n",
        "    sns.countplot(data=df, x=\"los_category\", palette=colors, ax=ax)\n",
        "    ax.set_title(\"Distribution of Length of Stay Categories\")\n",
        "    st.pyplot(fig)\n",
        "\n",
        "# Write the function as a string to app.py\n",
        "app_code = '''\n",
        "import streamlit as st\n",
        "import pandas as pd\n",
        "import numpy as np\n",
        "import matplotlib.pyplot as plt\n",
        "import seaborn as sns\n",
        "from sklearn.metrics import classification_report, confusion_matrix, f1_score\n",
        "import joblib\n",
        "from importlib.metadata import version\n",
        "\n",
        "# Load data and model\n",
        "X_scaled = pd.read_pickle(\"X_scaled.pkl\")\n",
        "y_test = np.load(\"y_test.npy\")\n",
        "y_pred = np.load(\"y_pred.npy\")\n",
        "df = pd.read_pickle(\"df.pkl\")\n",
        "class_names = np.load(\"class_names.npy\", allow_pickle=True)\n",
        "training_time = float(open(\"training_time.txt\").read())\n",
        "model = joblib.load(\"model.joblib\")\n",
        "\n",
        "st.title(\"Hospital Length of Stay Prediction Dashboard\")\n",
        "st.write(f\"Version: pandas {version('pandas')}, streamlit {version('streamlit')}\")\n",
        "st.write(\"This app predicts hospital length of stay using a Random Forest model and visualizes key insights.\")\n",
        "\n",
        "st.sidebar.header(\"Options\")\n",
        "show_data = st.sidebar.checkbox(\"Show Raw Data\", False)\n",
        "show_metrics = st.sidebar.checkbox(\"Show Performance Metrics\", True)\n",
        "show_features = st.sidebar.checkbox(\"Show Feature Importance\", True)\n",
        "\n",
        "if show_data:\n",
        "    st.subheader(\"Raw Data Preview\")\n",
        "    st.dataframe(df.head())\n",
        "\n",
        "if show_metrics:\n",
        "    st.subheader(\"Model Performance\")\n",
        "    f1 = f1_score(y_test, y_pred, average='weighted')\n",
        "    st.write(f\"**F1-Score (Weighted):** {f1:.3f}\")\n",
        "    st.write(f\"**Training Time:** {training_time:.2f} seconds\")\n",
        "    report = classification_report(y_test, y_pred, target_names=class_names, output_dict=True)\n",
        "    st.write(\"**Classification Report:**\")\n",
        "    st.json(report)\n",
        "    cm = confusion_matrix(y_test, y_pred)\n",
        "    fig, ax = plt.subplots(figsize=(8, 6))\n",
        "    sns.heatmap(cm, annot=True, fmt='d', cmap='Blues',\n",
        "                xticklabels=class_names, yticklabels=class_names, ax=ax)\n",
        "    ax.set_title(\"Confusion Matrix\")\n",
        "    ax.set_ylabel(\"True Label\")\n",
        "    ax.set_xlabel(\"Predicted Label\")\n",
        "    st.pyplot(fig)\n",
        "\n",
        "if show_features:\n",
        "    st.subheader(\"Feature Importance\")\n",
        "    feature_importance = pd.DataFrame({\n",
        "        'feature': X_scaled.columns,\n",
        "        'importance': model.feature_importances_\n",
        "    }).sort_values('importance', ascending=False)\n",
        "    fig, ax = plt.subplots(figsize=(10, 6))\n",
        "    sns.barplot(x='importance', y='feature', data=feature_importance.head(10), ax=ax)\n",
        "    ax.set_title(\"Top 10 Feature Importance\")\n",
        "    st.pyplot(fig)\n",
        "\n",
        "st.subheader(\"Target Distribution\")\n",
        "fig, ax = plt.subplots(figsize=(10, 6))\n",
        "colors = [\"#231F20\", \"#7CAED1\", \"#ABABAB\"]\n",
        "sns.countplot(data=df, x=\"los_category\", palette=colors, ax=ax)\n",
        "ax.set_title(\"Distribution of Length of Stay Categories\")\n",
        "st.pyplot(fig)\n",
        "'''\n",
        "\n",
        "with open('app.py', 'w') as f:\n",
        "    f.write(app_code)\n",
        "X_scaled.to_pickle(\"X_scaled.pkl\")\n",
        "np.save(\"y_test.npy\", y_test)\n",
        "np.save(\"y_pred.npy\", y_pred)\n",
        "df.to_pickle(\"df.pkl\")\n",
        "np.save(\"class_names.npy\", class_names)\n",
        "with open(\"training_time.txt\", \"w\") as f:\n",
        "    f.write(str(training_time))\n",
        "joblib.dump(model, \"model.joblib\")\n",
        "print(\"Streamlit app and data saved!\")"
      ],
      "metadata": {
        "colab": {
          "base_uri": "https://localhost:8080/"
        },
        "id": "ru-XxtBnrMH_",
        "outputId": "5f651d27-2e05-458c-b6aa-32b3b9c0bd58"
      },
      "execution_count": 15,
      "outputs": [
        {
          "output_type": "stream",
          "name": "stdout",
          "text": [
            "Streamlit app and data saved!\n"
          ]
        }
      ]
    },
    {
      "cell_type": "markdown",
      "source": [
        "# Chapter 7: Running the Streamlit App\n",
        "This chapter deploys the app with a modular function, logs sessions for reproducibility, and ensures scalability for cloud-based NHS access."
      ],
      "metadata": {
        "id": "RkO2teqer6Ce"
      }
    },
    {
      "cell_type": "code",
      "source": [
        "from pyngrok import ngrok\n",
        "def run_streamlit_app(token):\n",
        "    ngrok.kill()\n",
        "    ngrok.set_auth_token(token)\n",
        "    public_url = ngrok.connect(8501)\n",
        "    with open('ngrok_session.log', 'a') as f:\n",
        "        f.write(f\"URL: {public_url} at {time.ctime()}\\n\")\n",
        "    print(f\"Streamlit app running at: {public_url}\")\n",
        "    !streamlit run app.py &>/dev/null &\n",
        "\n",
        "run_streamlit_app(\"2uAcGyggvUoQOhjY8fJVmL2Nvfg_7yjDn8KW2Vcm8wPmPVsLu\")"
      ],
      "metadata": {
        "colab": {
          "base_uri": "https://localhost:8080/"
        },
        "id": "kH3URMWyr7l2",
        "outputId": "3d14de65-b580-4229-ce0f-aebb9795b0f4"
      },
      "execution_count": 17,
      "outputs": [
        {
          "output_type": "stream",
          "name": "stdout",
          "text": [
            "Streamlit app running at: NgrokTunnel: \"https://c5c9-34-58-28-66.ngrok-free.app\" -> \"http://localhost:8501\"\n"
          ]
        }
      ]
    }
  ]
}